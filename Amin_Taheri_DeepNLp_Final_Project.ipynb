{
  "nbformat": 4,
  "nbformat_minor": 0,
  "metadata": {
    "colab": {
      "name": "Amin_Taheri_DeepNLp_Final_Project  (1).ipynb",
      "provenance": [],
      "collapsed_sections": [
        "x8WPqYucJ9EO",
        "0id0qtLSig8W",
        "XpQuZA9omYNJ",
        "GTSMvtfpoeyr",
        "ZEY_HWfKnBDY",
        "PfeLfem-hy_-",
        "ePTZcVo6uC6f"
      ],
      "machine_shape": "hm",
      "include_colab_link": true
    },
    "kernelspec": {
      "display_name": "Python 3",
      "language": "python",
      "name": "python3"
    },
    "language_info": {
      "codemirror_mode": {
        "name": "ipython",
        "version": 3
      },
      "file_extension": ".py",
      "mimetype": "text/x-python",
      "name": "python",
      "nbconvert_exporter": "python",
      "pygments_lexer": "ipython3",
      "version": "3.7.7"
    }
  },
  "cells": [
    {
      "cell_type": "markdown",
      "metadata": {
        "id": "view-in-github",
        "colab_type": "text"
      },
      "source": [
        "<a href=\"https://colab.research.google.com/github/AminTaheri23/Deep-Persian-NER/blob/master/Amin_Taheri_DeepNLp_Final_Project.ipynb\" target=\"_parent\"><img src=\"https://colab.research.google.com/assets/colab-badge.svg\" alt=\"Open In Colab\"/></a>"
      ]
    },
    {
      "cell_type": "markdown",
      "metadata": {
        "colab_type": "text",
        "id": "esf2p3YI26q4"
      },
      "source": [
        "# About Final Project\n",
        "### In this project, your task is to build and train a model to recognize Named Entities from a  sentence. This model should give a tag to each word from a sentence. A classical application is Named Entity Recognition (NER)\n",
        "## Named Entity Recognition (NER)\n",
        "\n",
        " Named Entity Recognition is a process where an algorithm takes a string of text (sentence or paragraph) as input and identifies relevant nouns (people, places,  organizations, and...) that are mentioned in that string. Here is an example:\n"
      ]
    },
    {
      "cell_type": "markdown",
      "metadata": {
        "colab_type": "text",
        "id": "3Y1_zyc86HMq"
      },
      "source": [
        "\n",
        "\n",
        "```\n",
        "John  went to New   York  to interview with Microsoft \n",
        "B-PER O    O  B-LOC I-LOC O  O         O    B-ORG\n",
        "```\n",
        "\n"
      ]
    },
    {
      "cell_type": "markdown",
      "metadata": {
        "colab_type": "text",
        "id": "x8WPqYucJ9EO"
      },
      "source": [
        "# images"
      ]
    },
    {
      "cell_type": "markdown",
      "metadata": {
        "colab_type": "text",
        "id": "ExJiaNYmGJOd"
      },
      "source": [
        "# ArmanPersoNERCorpus\n",
        "### https://github.com/HaniehP/PersianNER\n",
        "This dataset includes 250,015 tokens and 7,682 Persian sentences in total. Each file contains one token, along with its manually annotated named-entity tag, per line. Each sentence is separated with a newline. The NER tags are in IOB format. \n",
        "\n",
        "The IOB format (short for inside, outside, beginning) is a common tagging format for tagging tokens in a chunking task in computational linguistics (ex. named entity recognition)\n",
        "\n",
        "An example with IOB format:\n"
      ]
    },
    {
      "cell_type": "markdown",
      "metadata": {
        "colab_type": "text",
        "id": "_-cAeqgj5-ct"
      },
      "source": [
        "\n",
        "\n",
        "```\n",
        "John B-PER\n",
        "lives O\n",
        "in O\n",
        "New B-LOC\n",
        "York I-LOC\n",
        ". O\n",
        "\n",
        "This O\n",
        "is O\n",
        "another O\n",
        "sentence\n",
        "```\n",
        "\n"
      ]
    },
    {
      "cell_type": "markdown",
      "metadata": {
        "colab_type": "text",
        "id": "0QgySzshJVjE"
      },
      "source": [
        " In ArmanPersoNERCorpus, NEs are categorized into six classes:***person*** , ***organization*** (such as banks, ministries, embassies, teams, nationalities, networks and publishers),***location*** (such as cities, villages, rivers, seas, gulfs, deserts and mountains), ***facility*** (such as schools, universities, research centers, airports, railways, bridges, roads, harbors, stations, hospitals, parks, zoos and cinemas), ***product*** (such as books, newspapers, TV shows, movies, airplanes, ships, cars, theories, laws, agreements and religions), and ***event*** (such as wars, earthquakes, national holidays, festivals and conferences); other are the remaining tokens."
      ]
    },
    {
      "cell_type": "markdown",
      "metadata": {
        "colab_type": "text",
        "id": "glPe712r0OXQ"
      },
      "source": [
        "#Implementation"
      ]
    },
    {
      "cell_type": "markdown",
      "metadata": {
        "colab_type": "text",
        "id": "QXZauUGd1wv_"
      },
      "source": [
        "## Importing libraries"
      ]
    },
    {
      "cell_type": "code",
      "metadata": {
        "colab_type": "code",
        "id": "6lrlt4MEJ4Vh",
        "colab": {
          "base_uri": "https://localhost:8080/",
          "height": 34
        },
        "outputId": "75224d18-1d92-4365-c672-ab5014972669"
      },
      "source": [
        "import sys, os, re, codecs\n",
        "import matplotlib.pyplot as plt\n",
        "%matplotlib inline\n",
        "from keras.preprocessing.text import Tokenizer\n",
        "from keras.preprocessing.sequence import pad_sequences\n",
        "from keras.layers import Dense, Input, LSTM, Embedding, Dropout, Activation\n",
        "from keras.layers import Bidirectional, GlobalMaxPool1D,Bidirectional\n",
        "from keras.layers import GRU, SimpleRNN\n",
        "from keras.models import Model\n",
        "from keras import initializers, regularizers, constraints, optimizers, layers\n",
        "import matplotlib.pyplot as plt\n",
        "%matplotlib inline\n",
        "import gensim.models.keyedvectors as word2vec\n",
        "import gc\n",
        "from gensim.models import KeyedVectors\n",
        "import gensim\n",
        "import pandas as pd\n",
        "import numpy as np"
      ],
      "execution_count": 1,
      "outputs": [
        {
          "output_type": "stream",
          "text": [
            "Using TensorFlow backend.\n"
          ],
          "name": "stderr"
        }
      ]
    },
    {
      "cell_type": "markdown",
      "metadata": {
        "colab_type": "text",
        "id": "2iC5yUzE2zOY"
      },
      "source": [
        "## Mounting your Google Drive files in Google Colab"
      ]
    },
    {
      "cell_type": "code",
      "metadata": {
        "colab_type": "code",
        "id": "QnHKrh2zGdk7",
        "outputId": "e71ea9d7-3dc5-4b3c-9433-5d99e7b9af0f",
        "colab": {
          "base_uri": "https://localhost:8080/",
          "height": 122
        }
      },
      "source": [
        "from google.colab import drive\n",
        "drive.mount('/Mydrive')"
      ],
      "execution_count": 2,
      "outputs": [
        {
          "output_type": "stream",
          "text": [
            "Go to this URL in a browser: https://accounts.google.com/o/oauth2/auth?client_id=947318989803-6bn6qk8qdgf4n4g3pfee6491hc0brc4i.apps.googleusercontent.com&redirect_uri=urn%3aietf%3awg%3aoauth%3a2.0%3aoob&response_type=code&scope=email%20https%3a%2f%2fwww.googleapis.com%2fauth%2fdocs.test%20https%3a%2f%2fwww.googleapis.com%2fauth%2fdrive%20https%3a%2f%2fwww.googleapis.com%2fauth%2fdrive.photos.readonly%20https%3a%2f%2fwww.googleapis.com%2fauth%2fpeopleapi.readonly\n",
            "\n",
            "Enter your authorization code:\n",
            "··········\n",
            "Mounted at /Mydrive\n"
          ],
          "name": "stdout"
        }
      ]
    },
    {
      "cell_type": "markdown",
      "metadata": {
        "colab_type": "text",
        "id": "YaxF96fS7v0F"
      },
      "source": [
        "#Preprocessing steps"
      ]
    },
    {
      "cell_type": "markdown",
      "metadata": {
        "colab_type": "text",
        "id": "2tqqb8W98rxJ"
      },
      "source": [
        "###Define list classes in our dataset"
      ]
    },
    {
      "cell_type": "code",
      "metadata": {
        "colab_type": "code",
        "id": "31skRKIMk3Vj",
        "colab": {}
      },
      "source": [
        "list_classes = ['B-pers','I-pers', 'B-pro', 'I-pro','B-loc','I-loc','B-fac','I-fac','B-event','I-event','B-org','I-org','O']\n",
        "list_columns = ['text','label']"
      ],
      "execution_count": 0,
      "outputs": []
    },
    {
      "cell_type": "markdown",
      "metadata": {
        "colab_type": "text",
        "id": "IolrfKXn9-6x"
      },
      "source": [
        "### Convert labels to one-hot vectors"
      ]
    },
    {
      "cell_type": "code",
      "metadata": {
        "colab_type": "code",
        "id": "BnA8D-t0zXzv",
        "colab": {}
      },
      "source": [
        "def label_to_one_hot(value):\n",
        "  list_classes = ['B-pers','I-pers', 'B-pro', 'I-pro','B-loc','I-loc','B-fac','I-fac','B-event','I-event','B-org','I-org','O']\n",
        "  if value == list_classes[0]:\n",
        "    return [1, 0, 0, 0, 0, 0, 0, 0, 0, 0, 0, 0, 0]\n",
        "  if value == list_classes[1]:\n",
        "    return [0, 1, 0, 0, 0, 0, 0, 0, 0, 0, 0, 0, 0]\n",
        "  if value == list_classes[2]:\n",
        "    return [0, 0, 1, 0, 0, 0, 0, 0, 0, 0, 0, 0, 0]\n",
        "  if value == list_classes[3]:\n",
        "    return [0, 0, 0, 1, 0, 0, 0, 0, 0, 0, 0, 0, 0]\n",
        "  if value == list_classes[4]:\n",
        "    return [0, 0, 0, 0, 1, 0, 0, 0, 0, 0, 0, 0, 0]\n",
        "  if value == list_classes[5]:\n",
        "    return [0, 0, 0, 0, 0, 1, 0, 0, 0, 0, 0, 0, 0]\n",
        "  if value == list_classes[6]:\n",
        "    return [0, 0, 0, 0, 0, 0, 1, 0, 0, 0, 0, 0, 0]\n",
        "  if value == list_classes[7]:\n",
        "    return [0, 0, 0, 0, 0, 0, 0, 1, 0, 0, 0, 0, 0]\n",
        "  if value == list_classes[8]:\n",
        "    return [0, 0, 0, 0, 0, 0, 0, 0, 1, 0, 0, 0, 0]\n",
        "  if value == list_classes[9]:\n",
        "    return [0, 0, 0, 0, 0, 0, 0, 0, 0, 1, 0, 0, 0]\n",
        "  if value == list_classes[10]:\n",
        "    return [0, 0, 0, 0, 0, 0, 0, 0, 0, 0, 1, 0, 0]\n",
        "  if value == list_classes[11]:\n",
        "    return [0, 0, 0, 0, 0, 0, 0, 0, 0, 0, 0, 1, 0]\n",
        "  if value == list_classes[12]:\n",
        "    return [0, 0, 0, 0, 0, 0, 0, 0, 0, 0, 0, 0, 1]\n"
      ],
      "execution_count": 0,
      "outputs": []
    },
    {
      "cell_type": "markdown",
      "metadata": {
        "colab_type": "text",
        "id": "BzXILbT1-Ytv"
      },
      "source": [
        "### Read  train data file"
      ]
    },
    {
      "cell_type": "code",
      "metadata": {
        "colab_type": "code",
        "id": "LLkPOnGVKqH4",
        "colab": {}
      },
      "source": [
        "def read_data(filename):\n",
        "    df= pd.DataFrame(columns=list_columns)\n",
        "    \n",
        "    f = open(filename)\n",
        "    sentences = []\n",
        "    sentence = []\n",
        "    for line in f:\n",
        "        if len(line) == 0 or line.startswith('-DOCSTART') or line[0] == \"\\n\":\n",
        "            if len(sentence) > 0:\n",
        "                sentences.append(sentence)\n",
        "                sentence = []\n",
        "            continue\n",
        "        splits = line.split(' ')        \n",
        "        sentence.append([splits[0], splits[-1]])\n",
        "\n",
        "    if len(sentence) > 0:\n",
        "        sentences.append(sentence)\n",
        "        sentence = []\n",
        "        \n",
        "    for sentence in sentences:\n",
        "      text=''\n",
        "      words=[]\n",
        "      values=[]\n",
        "      for item in sentence:\n",
        "        words.append(item[0])\n",
        "        values.append(item[1].replace('\\n',''))\n",
        "      _list=[]\n",
        "      _list.append(' '.join(words))\n",
        "      _list.append(' '.join(values))\n",
        "      df2 = pd.DataFrame([_list], columns=list_columns)\n",
        "      df=df.append(df2, ignore_index=True)\n",
        "    return df"
      ],
      "execution_count": 0,
      "outputs": []
    },
    {
      "cell_type": "code",
      "metadata": {
        "colab_type": "code",
        "id": "jJZz2SF_9psC",
        "colab": {}
      },
      "source": [
        "train = read_data('/Mydrive/My Drive/Colab Notebooks/mycorpus/ArmanPersoNERCorpus.txt')"
      ],
      "execution_count": 0,
      "outputs": []
    },
    {
      "cell_type": "code",
      "metadata": {
        "colab_type": "code",
        "id": "CYn0yBCGQLUt",
        "outputId": "35682d7a-2eb2-4822-8ba5-71d6094b0cc4",
        "colab": {
          "base_uri": "https://localhost:8080/",
          "height": 204
        }
      },
      "source": [
        "train.head()"
      ],
      "execution_count": 7,
      "outputs": [
        {
          "output_type": "execute_result",
          "data": {
            "text/html": [
              "<div>\n",
              "<style scoped>\n",
              "    .dataframe tbody tr th:only-of-type {\n",
              "        vertical-align: middle;\n",
              "    }\n",
              "\n",
              "    .dataframe tbody tr th {\n",
              "        vertical-align: top;\n",
              "    }\n",
              "\n",
              "    .dataframe thead th {\n",
              "        text-align: right;\n",
              "    }\n",
              "</style>\n",
              "<table border=\"1\" class=\"dataframe\">\n",
              "  <thead>\n",
              "    <tr style=\"text-align: right;\">\n",
              "      <th></th>\n",
              "      <th>text</th>\n",
              "      <th>label</th>\n",
              "    </tr>\n",
              "  </thead>\n",
              "  <tbody>\n",
              "    <tr>\n",
              "      <th>0</th>\n",
              "      <td>به عنوان مثال وقتی نشریات مدافع اصول و ارزشها ...</td>\n",
              "      <td>O O O O O O O O O O O O O O O O O O O O O O O ...</td>\n",
              "    </tr>\n",
              "    <tr>\n",
              "      <th>1</th>\n",
              "      <td>دکتر اصغری دبیر چهارمین همایش انجمن زمین‌شناسی...</td>\n",
              "      <td>O B-pers O B-event I-event I-event I-event I-e...</td>\n",
              "    </tr>\n",
              "    <tr>\n",
              "      <th>2</th>\n",
              "      <td>دکتر اکبر میرعرب در همایش بررسی و پیشگیری از ب...</td>\n",
              "      <td>O B-pers I-pers O B-event I-event I-event I-ev...</td>\n",
              "    </tr>\n",
              "    <tr>\n",
              "      <th>3</th>\n",
              "      <td>اردبیل ـ استاندار اردبیل گفت : به مناسبت هفته ...</td>\n",
              "      <td>B-loc O O B-loc O O O O B-event I-event O O O ...</td>\n",
              "    </tr>\n",
              "    <tr>\n",
              "      <th>4</th>\n",
              "      <td>حمید طاهایی افزود : برای اجرای این طرحها 0 میل...</td>\n",
              "      <td>B-pers I-pers O O O O O O O O O O O O O O O O O</td>\n",
              "    </tr>\n",
              "  </tbody>\n",
              "</table>\n",
              "</div>"
            ],
            "text/plain": [
              "                                                text                                              label\n",
              "0  به عنوان مثال وقتی نشریات مدافع اصول و ارزشها ...  O O O O O O O O O O O O O O O O O O O O O O O ...\n",
              "1  دکتر اصغری دبیر چهارمین همایش انجمن زمین‌شناسی...  O B-pers O B-event I-event I-event I-event I-e...\n",
              "2  دکتر اکبر میرعرب در همایش بررسی و پیشگیری از ب...  O B-pers I-pers O B-event I-event I-event I-ev...\n",
              "3  اردبیل ـ استاندار اردبیل گفت : به مناسبت هفته ...  B-loc O O B-loc O O O O B-event I-event O O O ...\n",
              "4  حمید طاهایی افزود : برای اجرای این طرحها 0 میل...    B-pers I-pers O O O O O O O O O O O O O O O O O"
            ]
          },
          "metadata": {
            "tags": []
          },
          "execution_count": 7
        }
      ]
    },
    {
      "cell_type": "markdown",
      "metadata": {
        "colab_type": "text",
        "id": "O_sXTWZ08eLq"
      },
      "source": [
        "## Split data, into X and Y sets"
      ]
    },
    {
      "cell_type": "code",
      "metadata": {
        "colab_type": "code",
        "id": "Yy3uBiraHThy",
        "colab": {}
      },
      "source": [
        "y = train['label']\n",
        "list_sentences_train = train['text']"
      ],
      "execution_count": 0,
      "outputs": []
    },
    {
      "cell_type": "markdown",
      "metadata": {
        "colab_type": "text",
        "id": "4ElRDEKAGXvH"
      },
      "source": [
        "###Tokenization "
      ]
    },
    {
      "cell_type": "code",
      "metadata": {
        "colab_type": "code",
        "id": "h37T1o64j35c",
        "colab": {}
      },
      "source": [
        "max_features = 250015\n",
        "tokenizer = Tokenizer(num_words=max_features)\n",
        "tokenizer.fit_on_texts(list(list_sentences_train))\n",
        "list_tokenized_train = tokenizer.texts_to_sequences(list_sentences_train)\n",
        "\n",
        "y = [[label_to_one_hot(c) for c in ey.split(' ')] for ey in y]"
      ],
      "execution_count": 0,
      "outputs": []
    },
    {
      "cell_type": "markdown",
      "metadata": {
        "colab_type": "text",
        "id": "i4_7nkMraFMA"
      },
      "source": [
        "## How do you know what is the best \"maxlen\" to set?\n",
        "One of the ways to go about it is to see the distribution of the number of words in sentences."
      ]
    },
    {
      "cell_type": "code",
      "metadata": {
        "colab_type": "code",
        "id": "P_1G2hacZTUQ",
        "outputId": "27f61767-3a0d-49f2-ad06-5c1f1f714a54",
        "colab": {
          "base_uri": "https://localhost:8080/",
          "height": 265
        }
      },
      "source": [
        "totalNumWords = [len(one_comment) for one_comment in list_tokenized_train]\n",
        "plt.hist(totalNumWords,bins = np.arange(0,120,5))\n",
        "plt.show()\n",
        "# 120 is a good maxlen"
      ],
      "execution_count": 10,
      "outputs": [
        {
          "output_type": "display_data",
          "data": {
            "image/png": "[encoded data removed]",
            "text/plain": [
              "<Figure size 432x288 with 1 Axes>"
            ]
          },
          "metadata": {
            "tags": [],
            "needs_background": "light"
          }
        }
      ]
    },
    {
      "cell_type": "markdown",
      "metadata": {
        "colab_type": "text",
        "id": "pz1HtqSqbG1_"
      },
      "source": [
        "##Padding"
      ]
    },
    {
      "cell_type": "code",
      "metadata": {
        "colab_type": "code",
        "id": "_THR7dSZj8-n",
        "outputId": "1d1d3804-091c-4054-9d20-08ab742804de",
        "colab": {
          "base_uri": "https://localhost:8080/",
          "height": 51
        }
      },
      "source": [
        "maxlen = 60\n",
        "X_t = pad_sequences(list_tokenized_train, maxlen=maxlen)\n",
        "y_t = pad_sequences(y, maxlen=maxlen)\n",
        "print(len(X_t[0]))\n",
        "print(len(y_t[0]))"
      ],
      "execution_count": 11,
      "outputs": [
        {
          "output_type": "stream",
          "text": [
            "60\n",
            "60\n"
          ],
          "name": "stdout"
        }
      ]
    },
    {
      "cell_type": "markdown",
      "metadata": {
        "colab_type": "text",
        "id": "vjPRoHPuJBGS"
      },
      "source": [
        "##  load our embeddings model into a dictionary "
      ]
    },
    {
      "cell_type": "code",
      "metadata": {
        "colab_type": "code",
        "id": "nfhzUmUc7mqH",
        "colab": {}
      },
      "source": [
        "def loadEmbeddingMatrix(typeToLoad):\n",
        "    if(typeToLoad==\"fasttext\"):\n",
        "        EMBEDDING_FILE='/Mydrive/My Drive/Colab Notebooks/mycorpus/model_fastext_sg.vec'\n",
        "        embed_size = 300\n",
        "\n",
        "    if(typeToLoad==\"glove\" or typeToLoad==\"fasttext\" ):\n",
        "        embeddings_index = dict()\n",
        "            #Transfer the embedding weights into a dictionary by iterating through every line of the file.\n",
        "        with open(EMBEDDING_FILE,'r', encoding='utf8')as f:\n",
        "            for line in f:\n",
        "                try:\n",
        "                    values = line.split()\n",
        "\n",
        "                    if len(values)==301:\n",
        "                        word = values[0]    \n",
        "                        coefs = np.asarray(values[1:], dtype='float32')\n",
        "                        embeddings_index[word] = coefs\n",
        "                    elif len(values)==302:\n",
        "          #print(len(value))\n",
        "                        word = values[0]+'\\u200c'+values[1]   \n",
        "                        coefs = np.asarray(values[2:], dtype='float32')\n",
        "                        embeddings_index[word] = coefs\n",
        "                    elif len(values)==303:\n",
        "                        word = values[0]+'\\u200c'+values[1]+'\\u200c'+values[2]  \n",
        "                        coefs = np.asarray(values[3:], dtype='float32')\n",
        "                        embeddings_index[word] = coefs\n",
        "                except Exception as inst:\n",
        "                        print(inst)\n",
        "    else:\n",
        "            embeddings_index = dict()\n",
        "            for word in word2vecDict.wv.vocab:\n",
        "                embeddings_index[word] = word2vecDict.word_vec(word)\n",
        "            #print('Loaded %s word vectors.' % len(embeddings_index))\n",
        "            \n",
        "    gc.collect()\n",
        "        #We get the mean and standard deviation of the embedding weights so that we could maintain the \n",
        "        #same statistics for the rest of our own random generated weights. \n",
        "    all_embs = np.stack(list(embeddings_index.values()))\n",
        "    emb_mean,emb_std = all_embs.mean(), all_embs.std()\n",
        "        \n",
        "    nb_words = len(tokenizer.word_index)\n",
        "        #We are going to set the embedding size to the pretrained dimension as we are replicating it.\n",
        "        #the size will be Number of Words in Vocab X Embedding Size\n",
        "    embedding_matrix = np.random.normal(emb_mean, emb_std, (nb_words, embed_size))\n",
        "    gc.collect()\n",
        "\n",
        "        #With the newly created embedding matrix, we'll fill it up with the words that we have in both \n",
        "        #our own dictionary and loaded pretrained embedding. \n",
        "    embeddedCount = 0\n",
        "    for word, i in tokenizer.word_index.items():\n",
        "            i-=1\n",
        "            #then we see if this word is in glove's dictionary, if yes, get the corresponding weights\n",
        "            embedding_vector = embeddings_index.get(word)\n",
        "            #and store inside the embedding matrix that we will train later on.\n",
        "            if embedding_vector is not None: \n",
        "                embedding_matrix[i] = embedding_vector\n",
        "                embeddedCount+=1\n",
        "    print('total embedded:',embeddedCount,'common words')\n",
        "        \n",
        "    del(embeddings_index)\n",
        "    gc.collect()\n",
        "        \n",
        "        #finally, return the embedding matrix\n",
        "    return embedding_matrix"
      ],
      "execution_count": 0,
      "outputs": []
    },
    {
      "cell_type": "code",
      "metadata": {
        "colab_type": "code",
        "id": "g3drEpA27zt2",
        "outputId": "92d3e977-90eb-4b8c-81e6-05ad0c05e0c0",
        "colab": {
          "base_uri": "https://localhost:8080/",
          "height": 34
        }
      },
      "source": [
        "embedding_matrix = loadEmbeddingMatrix('fasttext')"
      ],
      "execution_count": 15,
      "outputs": [
        {
          "output_type": "stream",
          "text": [
            "total embedded: 6553 common words\n"
          ],
          "name": "stdout"
        }
      ]
    },
    {
      "cell_type": "markdown",
      "metadata": {
        "colab_type": "text",
        "id": "RyKZK2g3NdZk"
      },
      "source": [
        "# installing crf from keras coontibutaions\n"
      ]
    },
    {
      "cell_type": "code",
      "metadata": {
        "colab_type": "code",
        "id": "Dh9y8uEONiV5",
        "outputId": "2928d2fc-f520-4e9f-adc3-0effd71aa7e9",
        "colab": {
          "base_uri": "https://localhost:8080/",
          "height": 323
        }
      },
      "source": [
        "! pip install git+https://www.github.com/keras-team/keras-contrib.git"
      ],
      "execution_count": 16,
      "outputs": [
        {
          "output_type": "stream",
          "text": [
            "Collecting git+https://www.github.com/keras-team/keras-contrib.git\n",
            "  Cloning https://www.github.com/keras-team/keras-contrib.git to /tmp/pip-req-build-9lh4d721\n",
            "  Running command git clone -q https://www.github.com/keras-team/keras-contrib.git /tmp/pip-req-build-9lh4d721\n",
            "Requirement already satisfied: keras in /usr/local/lib/python3.6/dist-packages (from keras-contrib==2.0.8) (2.3.1)\n",
            "Requirement already satisfied: keras-preprocessing>=1.0.5 in /usr/local/lib/python3.6/dist-packages (from keras->keras-contrib==2.0.8) (1.1.0)\n",
            "Requirement already satisfied: numpy>=1.9.1 in /usr/local/lib/python3.6/dist-packages (from keras->keras-contrib==2.0.8) (1.18.3)\n",
            "Requirement already satisfied: scipy>=0.14 in /usr/local/lib/python3.6/dist-packages (from keras->keras-contrib==2.0.8) (1.4.1)\n",
            "Requirement already satisfied: h5py in /usr/local/lib/python3.6/dist-packages (from keras->keras-contrib==2.0.8) (2.10.0)\n",
            "Requirement already satisfied: keras-applications>=1.0.6 in /usr/local/lib/python3.6/dist-packages (from keras->keras-contrib==2.0.8) (1.0.8)\n",
            "Requirement already satisfied: six>=1.9.0 in /usr/local/lib/python3.6/dist-packages (from keras->keras-contrib==2.0.8) (1.12.0)\n",
            "Requirement already satisfied: pyyaml in /usr/local/lib/python3.6/dist-packages (from keras->keras-contrib==2.0.8) (3.13)\n",
            "Building wheels for collected packages: keras-contrib\n",
            "  Building wheel for keras-contrib (setup.py) ... \u001b[?25l\u001b[?25hdone\n",
            "  Created wheel for keras-contrib: filename=keras_contrib-2.0.8-cp36-none-any.whl size=101064 sha256=4b37d314e79de24f35bb4ab0f13dc118f9c84c219005b865bd015b03d4c685d4\n",
            "  Stored in directory: /tmp/pip-ephem-wheel-cache-l15a5q6n/wheels/11/27/c8/4ed56de7b55f4f61244e2dc6ef3cdbaff2692527a2ce6502ba\n",
            "Successfully built keras-contrib\n",
            "Installing collected packages: keras-contrib\n",
            "Successfully installed keras-contrib-2.0.8\n"
          ],
          "name": "stdout"
        }
      ]
    },
    {
      "cell_type": "markdown",
      "metadata": {
        "colab_type": "text",
        "id": "ZRgtlXK1yZBj"
      },
      "source": [
        "#training steps\n",
        "\n",
        "##Architectures:\n",
        "\n",
        "*   word emedding(fasttext-glove-w2v)-Bi-directional LSTM-softmax\n",
        "*   Bi-directional LSTM-softmax\n",
        "*   word emedding(fasttext-glove-w2v)-Bi-directional LSTM-CRF(Conditional Random Field)\n",
        "*   Bi-directional LSTM-CRF\n",
        "*   word emedding(fasttext-glove-w2v)- Bi-directional LSTM-CNNs-CRF\n",
        "*   Bi-directional LSTM-CNNs-CRF"
      ]
    },
    {
      "cell_type": "markdown",
      "metadata": {
        "colab_type": "text",
        "id": "vCacgjcRrDRX"
      },
      "source": [
        "##building  your models"
      ]
    },
    {
      "cell_type": "markdown",
      "metadata": {
        "colab_type": "text",
        "id": "0id0qtLSig8W"
      },
      "source": [
        "### Bi-directinal LSTM-softmax(pretrained)\n",
        "\n"
      ]
    },
    {
      "cell_type": "code",
      "metadata": {
        "colab_type": "code",
        "id": "1cHNhq0IiqWB",
        "outputId": "6475c3fd-a2ea-41b4-e5ef-6eddb6393094",
        "colab": {
          "base_uri": "https://localhost:8080/"
        }
      },
      "source": [
        "from keras.layers import  TimeDistributed, Masking, Conv1D, MaxPooling1D, Flatten\n",
        "from keras_contrib.layers import CRF\n",
        "from keras_contrib.losses import crf_loss\n",
        "from keras_contrib.metrics import crf_viterbi_accuracy, crf_accuracy\n",
        "from keras.models import Sequential\n",
        "\n",
        "model = Sequential()\n",
        "# model.add(Dense(shape=(maxlen,)))\n",
        "model.add(Embedding(len(tokenizer.word_index), embedding_matrix.shape[1],\n",
        "                    weights=[embedding_matrix],trainable=False ))\n",
        "model.add(Bidirectional(LSTM(150, return_sequences=True,\n",
        "                             name='lstm_layer',dropout=0.1,recurrent_dropout=0.1)))\n",
        "model.add(Dense(13, activation='softmax'))\n",
        "\n",
        "model.compile(loss='binary_crossentropy',\n",
        "                  optimizer='adam',\n",
        "                  metrics=['accuracy'])\n",
        "model.summary()"
      ],
      "execution_count": 0,
      "outputs": [
        {
          "output_type": "stream",
          "text": [
            "Model: \"sequential_6\"\n",
            "_________________________________________________________________\n",
            "Layer (type)                 Output Shape              Param #   \n",
            "=================================================================\n",
            "embedding_4 (Embedding)      (None, None, 300)         5462400   \n",
            "_________________________________________________________________\n",
            "bidirectional_4 (Bidirection (None, None, 300)         541200    \n",
            "_________________________________________________________________\n",
            "dense_4 (Dense)              (None, None, 13)          3913      \n",
            "=================================================================\n",
            "Total params: 6,007,513\n",
            "Trainable params: 545,113\n",
            "Non-trainable params: 5,462,400\n",
            "_________________________________________________________________\n"
          ],
          "name": "stdout"
        }
      ]
    },
    {
      "cell_type": "markdown",
      "metadata": {
        "colab_type": "text",
        "id": "XpQuZA9omYNJ"
      },
      "source": [
        "### Bi-directinal LSTM-softmax\n",
        "\n"
      ]
    },
    {
      "cell_type": "code",
      "metadata": {
        "colab_type": "code",
        "id": "dxEIMaYamYNM",
        "outputId": "a24a515c-4554-419f-8e7d-5e6c1e0595d4",
        "colab": {
          "base_uri": "https://localhost:8080/"
        }
      },
      "source": [
        "from keras.layers import  TimeDistributed, Masking, Conv1D, MaxPooling1D, Flatten\n",
        "from keras_contrib.layers import CRF\n",
        "from keras_contrib.losses import crf_loss\n",
        "from keras_contrib.metrics import crf_viterbi_accuracy, crf_accuracy\n",
        "from keras.models import Sequential\n",
        "\n",
        "model = Sequential()\n",
        "# model.add(Dense(shape=(maxlen,)))\n",
        "model.add(Embedding(max_features+1, 300, input_length=maxlen))\n",
        "model.add(Bidirectional(LSTM(150, return_sequences=True,\n",
        "                             name='lstm_layer',dropout=0.1,recurrent_dropout=0.1)))\n",
        "model.add(Dense(13, activation='softmax'))\n",
        "\n",
        "model.compile(loss='binary_crossentropy',\n",
        "                  optimizer='adam',\n",
        "                  metrics=['accuracy'])\n",
        "model.summary()"
      ],
      "execution_count": 0,
      "outputs": [
        {
          "output_type": "stream",
          "text": [
            "Model: \"sequential_7\"\n",
            "_________________________________________________________________\n",
            "Layer (type)                 Output Shape              Param #   \n",
            "=================================================================\n",
            "embedding_5 (Embedding)      (None, 60, 300)           75004800  \n",
            "_________________________________________________________________\n",
            "bidirectional_5 (Bidirection (None, 60, 300)           541200    \n",
            "_________________________________________________________________\n",
            "dense_5 (Dense)              (None, 60, 13)            3913      \n",
            "=================================================================\n",
            "Total params: 75,549,913\n",
            "Trainable params: 75,549,913\n",
            "Non-trainable params: 0\n",
            "_________________________________________________________________\n"
          ],
          "name": "stdout"
        }
      ]
    },
    {
      "cell_type": "markdown",
      "metadata": {
        "colab_type": "text",
        "id": "GTSMvtfpoeyr"
      },
      "source": [
        "### bi-Directional lstm, crf (wordembedding)\n",
        "the other architectures are commented in this cell, i can also make them in separete cells, but i tthoght this is more straight forward. "
      ]
    },
    {
      "cell_type": "code",
      "metadata": {
        "colab_type": "code",
        "id": "AY5TlFfKoeyt",
        "outputId": "3f3f7b3f-d846-4c27-b177-61cf113e54b9",
        "colab": {
          "base_uri": "https://localhost:8080/"
        }
      },
      "source": [
        "from keras.layers import  TimeDistributed, Masking, Conv1D, MaxPooling1D, Flatten\n",
        "from keras_contrib.layers import CRF\n",
        "from keras_contrib.losses import crf_loss\n",
        "from keras_contrib.metrics import crf_viterbi_accuracy, crf_accuracy\n",
        "from keras.models import Sequential\n",
        "\n",
        "model = Sequential()\n",
        "model.add(Embedding(len(tokenizer.word_index), embedding_matrix.shape[1],weights=[embedding_matrix],trainable=False))\n",
        "model.add(Bidirectional(LSTM(30, return_sequences=True,name='lstm')))\n",
        "model.add(Bidirectional(LSTM(30, return_sequences=True,name='lstm')))\n",
        "model.add(CRF(13, sparse_target=True) )  # CRF layer\n",
        "\n",
        "model.compile(optimizer=\"rmsprop\", loss=crf_loss, metrics=[crf_accuracy])\n",
        "\n",
        "model.summary()"
      ],
      "execution_count": 0,
      "outputs": [
        {
          "output_type": "stream",
          "text": [
            "Model: \"sequential_10\"\n",
            "_________________________________________________________________\n",
            "Layer (type)                 Output Shape              Param #   \n",
            "=================================================================\n",
            "embedding_8 (Embedding)      (None, None, 300)         5462400   \n",
            "_________________________________________________________________\n",
            "bidirectional_10 (Bidirectio (None, None, 60)          79440     \n",
            "_________________________________________________________________\n",
            "bidirectional_11 (Bidirectio (None, None, 60)          21840     \n",
            "_________________________________________________________________\n",
            "crf_3 (CRF)                  (None, None, 13)          988       \n",
            "=================================================================\n",
            "Total params: 5,564,668\n",
            "Trainable params: 102,268\n",
            "Non-trainable params: 5,462,400\n",
            "_________________________________________________________________\n"
          ],
          "name": "stdout"
        }
      ]
    },
    {
      "cell_type": "markdown",
      "metadata": {
        "colab_type": "text",
        "id": "ZEY_HWfKnBDY"
      },
      "source": [
        "### bi-Directional lstm, crf \n",
        "the other architectures are commented in this cell, i can also make them in separete cells, but i tthoght this is more straight forward. "
      ]
    },
    {
      "cell_type": "code",
      "metadata": {
        "colab_type": "code",
        "id": "t1sFXhTvnBDZ",
        "outputId": "51fa939c-d3df-426e-b45c-50bf7a36dee7",
        "colab": {
          "base_uri": "https://localhost:8080/"
        }
      },
      "source": [
        "from keras.layers import  TimeDistributed, Masking, Conv1D, MaxPooling1D, Flatten\n",
        "from keras_contrib.layers import CRF\n",
        "from keras_contrib.losses import crf_loss\n",
        "from keras_contrib.metrics import crf_viterbi_accuracy, crf_accuracy\n",
        "from keras.models import Sequential\n",
        "\n",
        "model = Sequential()\n",
        "# model.add(Input(shape=(maxlen,)))\n",
        "model.add(Embedding(max_features+1, 300, input_length=maxlen))\n",
        "# model.add(Masking(mask_value=)\n",
        "model.add(Bidirectional(LSTM(30, return_sequences=True,name='lstm')))\n",
        "model.add(Bidirectional(LSTM(30, return_sequences=True,name='lstm')))\n",
        "\n",
        "model.add(CRF(13, sparse_target=True) )  # CRF layer, n_tags+1(PAD)\n",
        "\n",
        "model.compile(optimizer=\"rmsprop\", loss=crf_loss, metrics=[crf_accuracy])\n",
        "\n",
        "model.summary()"
      ],
      "execution_count": 0,
      "outputs": [
        {
          "output_type": "stream",
          "text": [
            "Model: \"sequential_9\"\n",
            "_________________________________________________________________\n",
            "Layer (type)                 Output Shape              Param #   \n",
            "=================================================================\n",
            "embedding_7 (Embedding)      (None, 60, 300)           75004800  \n",
            "_________________________________________________________________\n",
            "bidirectional_8 (Bidirection (None, 60, 60)            79440     \n",
            "_________________________________________________________________\n",
            "bidirectional_9 (Bidirection (None, 60, 60)            21840     \n",
            "_________________________________________________________________\n",
            "crf_2 (CRF)                  (None, 60, 13)            988       \n",
            "=================================================================\n",
            "Total params: 75,107,068\n",
            "Trainable params: 75,107,068\n",
            "Non-trainable params: 0\n",
            "_________________________________________________________________\n"
          ],
          "name": "stdout"
        }
      ]
    },
    {
      "cell_type": "markdown",
      "metadata": {
        "colab_type": "text",
        "id": "PfeLfem-hy_-"
      },
      "source": [
        "### bi-lstm, cnn, crf (WordEmbedding)\n",
        "the other architectures are commented in this cell, i can also make them in separete cells, but i tthoght this is more straight forward. "
      ]
    },
    {
      "cell_type": "code",
      "metadata": {
        "colab_type": "code",
        "id": "WM6Fh8Y-6wYO",
        "outputId": "45dc27a7-d593-4e91-ea40-2e3ffef44007",
        "colab": {
          "base_uri": "https://localhost:8080/"
        }
      },
      "source": [
        "from keras.layers import  TimeDistributed, Masking, Conv1D, MaxPooling1D, Flatten\n",
        "from keras_contrib.layers import CRF\n",
        "from keras_contrib.losses import crf_loss\n",
        "from keras_contrib.metrics import crf_viterbi_accuracy, crf_accuracy\n",
        "from keras.models import Sequential\n",
        "\n",
        "model = Sequential()\n",
        "model.add(Embedding(len(tokenizer.word_index), embedding_matrix.shape[1],weights=[embedding_matrix],trainable=False))\n",
        "model.add(Bidirectional(LSTM(30, return_sequences=True,name='lstm')))\n",
        "model.add(Bidirectional(LSTM(30, return_sequences=True,name='lstm')))\n",
        "model.add(Conv1D(60, 1, activation='relu'))\n",
        "model.add(MaxPooling1D(1))\n",
        "model.add(Conv1D(60, 1, activation='relu'))\n",
        "model.add(MaxPooling1D(1))# global max pooling\n",
        "model.add(CRF(13, sparse_target=True))  # CRF layer,\n",
        "\n",
        "model.compile(optimizer=\"rmsprop\", loss=crf_loss, metrics=[crf_accuracy])\n",
        "\n",
        "model.summary()"
      ],
      "execution_count": 0,
      "outputs": [
        {
          "output_type": "stream",
          "text": [
            "Model: \"sequential_12\"\n",
            "_________________________________________________________________\n",
            "Layer (type)                 Output Shape              Param #   \n",
            "=================================================================\n",
            "embedding_10 (Embedding)     (None, None, 300)         5462400   \n",
            "_________________________________________________________________\n",
            "bidirectional_14 (Bidirectio (None, None, 60)          79440     \n",
            "_________________________________________________________________\n",
            "bidirectional_15 (Bidirectio (None, None, 60)          21840     \n",
            "_________________________________________________________________\n",
            "conv1d_3 (Conv1D)            (None, None, 60)          3660      \n",
            "_________________________________________________________________\n",
            "max_pooling1d_3 (MaxPooling1 (None, None, 60)          0         \n",
            "_________________________________________________________________\n",
            "conv1d_4 (Conv1D)            (None, None, 60)          3660      \n",
            "_________________________________________________________________\n",
            "max_pooling1d_4 (MaxPooling1 (None, None, 60)          0         \n",
            "_________________________________________________________________\n",
            "crf_5 (CRF)                  (None, None, 13)          988       \n",
            "=================================================================\n",
            "Total params: 5,571,988\n",
            "Trainable params: 109,588\n",
            "Non-trainable params: 5,462,400\n",
            "_________________________________________________________________\n"
          ],
          "name": "stdout"
        }
      ]
    },
    {
      "cell_type": "markdown",
      "metadata": {
        "colab_type": "text",
        "id": "ePTZcVo6uC6f"
      },
      "source": [
        "### bi-lstm, cnn, crf \n",
        "the other architectures are commented in this cell, i can also make them in separete cells, but i tthoght this is more straight forward. "
      ]
    },
    {
      "cell_type": "code",
      "metadata": {
        "colab_type": "code",
        "id": "XkSc-4TWuC6g",
        "outputId": "0ec8ce47-59e5-48a9-ba38-718de3bf22cc",
        "colab": {
          "base_uri": "https://localhost:8080/",
          "height": 425
        }
      },
      "source": [
        "from keras.layers import  TimeDistributed, Masking, Conv1D, MaxPooling1D, Flatten\n",
        "from keras_contrib.layers import CRF\n",
        "from keras_contrib.losses import crf_loss\n",
        "from keras_contrib.metrics import crf_viterbi_accuracy, crf_accuracy\n",
        "from keras.models import Sequential\n",
        "\n",
        "model = Sequential()\n",
        "model.add(Embedding(max_features+1, 300, input_length=maxlen))\n",
        "model.add(Bidirectional(LSTM(30, return_sequences=True,name='lstm')))\n",
        "model.add(Bidirectional(LSTM(30, return_sequences=True,name='lstm')))\n",
        "model.add(Conv1D(60, 1, activation='relu'))\n",
        "model.add(MaxPooling1D(1))\n",
        "model.add(Conv1D(60, 1, activation='relu'))\n",
        "model.add(MaxPooling1D(1))# global max pooling\n",
        "model.add(CRF(13, sparse_target=True))  # CRF layer,\n",
        "\n",
        "model.compile(optimizer=\"rmsprop\", loss=crf_loss, metrics=[crf_accuracy])\n",
        "\n",
        "model.summary()"
      ],
      "execution_count": 0,
      "outputs": [
        {
          "output_type": "stream",
          "text": [
            "Model: \"sequential_13\"\n",
            "_________________________________________________________________\n",
            "Layer (type)                 Output Shape              Param #   \n",
            "=================================================================\n",
            "embedding_11 (Embedding)     (None, 60, 300)           75004800  \n",
            "_________________________________________________________________\n",
            "bidirectional_16 (Bidirectio (None, 60, 60)            79440     \n",
            "_________________________________________________________________\n",
            "bidirectional_17 (Bidirectio (None, 60, 60)            21840     \n",
            "_________________________________________________________________\n",
            "conv1d_5 (Conv1D)            (None, 60, 60)            3660      \n",
            "_________________________________________________________________\n",
            "max_pooling1d_5 (MaxPooling1 (None, 60, 60)            0         \n",
            "_________________________________________________________________\n",
            "conv1d_6 (Conv1D)            (None, 60, 60)            3660      \n",
            "_________________________________________________________________\n",
            "max_pooling1d_6 (MaxPooling1 (None, 60, 60)            0         \n",
            "_________________________________________________________________\n",
            "crf_6 (CRF)                  (None, 60, 13)            988       \n",
            "=================================================================\n",
            "Total params: 75,114,388\n",
            "Trainable params: 75,114,388\n",
            "Non-trainable params: 0\n",
            "_________________________________________________________________\n"
          ],
          "name": "stdout"
        }
      ]
    },
    {
      "cell_type": "markdown",
      "metadata": {
        "colab_type": "text",
        "id": "wlt2veDeh6ms"
      },
      "source": [
        "### my state of the art"
      ]
    },
    {
      "cell_type": "code",
      "metadata": {
        "id": "cXoElZfTUNHV",
        "colab_type": "code",
        "colab": {}
      },
      "source": [
        "from tensorflow import keras\n",
        "import tensorflow.keras.backend as K\n",
        "\n",
        "def get_f1(y_true, y_pred): #taken from old keras source code\n",
        "    true_positives = K.sum(K.round(K.clip(y_true * y_pred, 0, 1)))\n",
        "    possible_positives = K.sum(K.round(K.clip(y_true, 0, 1)))\n",
        "    predicted_positives = K.sum(K.round(K.clip(y_pred, 0, 1)))\n",
        "    precision = true_positives / (predicted_positives + K.epsilon())\n",
        "    recall = true_positives / (possible_positives + K.epsilon())\n",
        "    f1_val = 2*(precision*recall)/(precision+recall+K.epsilon())\n",
        "    return f1_val"
      ],
      "execution_count": 0,
      "outputs": []
    },
    {
      "cell_type": "code",
      "metadata": {
        "colab_type": "code",
        "id": "hMISVZQ8hDam",
        "outputId": "9100f9af-e341-4f17-d16d-c44d81c7dbe1",
        "colab": {
          "base_uri": "https://localhost:8080/",
          "height": 476
        }
      },
      "source": [
        "from keras.layers import  TimeDistributed\n",
        "from keras.layers.merge import add\n",
        "inp = Input(shape=(maxlen, ))\n",
        "emb = Embedding(len(tokenizer.word_index), embedding_matrix.shape[1],weights=[embedding_matrix],trainable=False)(inp)\n",
        "x = Bidirectional(LSTM(150, return_sequences=True,name='lstm_layer',dropout=0.1,recurrent_dropout=0.1))(emb)\n",
        "x_rnn = Bidirectional(LSTM(150, return_sequences=True,name='lstm_layer',dropout=0.1,recurrent_dropout=0.1))(x)\n",
        "x = add([x, x_rnn]) \n",
        "#x = GlobalMaxPool1D()(x)\n",
        "x = Dropout(0.1)(x)\n",
        "x = Dense(300, activation=\"relu\")(x)\n",
        "x = Dropout(0.1)(x)\n",
        "x = Dense(13, activation=\"softmax\")(x)\n",
        "model = Model(inputs=inp, outputs=x)\n",
        "model.compile(loss='binary_crossentropy',\n",
        "                  optimizer='adam',\n",
        "                  metrics=['accuracy', get_f1])\n",
        "model.summary()"
      ],
      "execution_count": 42,
      "outputs": [
        {
          "output_type": "stream",
          "text": [
            "Model: \"model_4\"\n",
            "__________________________________________________________________________________________________\n",
            "Layer (type)                    Output Shape         Param #     Connected to                     \n",
            "==================================================================================================\n",
            "input_4 (InputLayer)            (None, 60)           0                                            \n",
            "__________________________________________________________________________________________________\n",
            "embedding_4 (Embedding)         (None, 60, 300)      5462400     input_4[0][0]                    \n",
            "__________________________________________________________________________________________________\n",
            "bidirectional_7 (Bidirectional) (None, 60, 300)      541200      embedding_4[0][0]                \n",
            "__________________________________________________________________________________________________\n",
            "bidirectional_8 (Bidirectional) (None, 60, 300)      541200      bidirectional_7[0][0]            \n",
            "__________________________________________________________________________________________________\n",
            "add_4 (Add)                     (None, 60, 300)      0           bidirectional_7[0][0]            \n",
            "                                                                 bidirectional_8[0][0]            \n",
            "__________________________________________________________________________________________________\n",
            "dropout_7 (Dropout)             (None, 60, 300)      0           add_4[0][0]                      \n",
            "__________________________________________________________________________________________________\n",
            "dense_7 (Dense)                 (None, 60, 300)      90300       dropout_7[0][0]                  \n",
            "__________________________________________________________________________________________________\n",
            "dropout_8 (Dropout)             (None, 60, 300)      0           dense_7[0][0]                    \n",
            "__________________________________________________________________________________________________\n",
            "dense_8 (Dense)                 (None, 60, 13)       3913        dropout_8[0][0]                  \n",
            "==================================================================================================\n",
            "Total params: 6,639,013\n",
            "Trainable params: 1,176,613\n",
            "Non-trainable params: 5,462,400\n",
            "__________________________________________________________________________________________________\n"
          ],
          "name": "stdout"
        }
      ]
    },
    {
      "cell_type": "markdown",
      "metadata": {
        "colab_type": "text",
        "id": "m0S4VHNqwr3D"
      },
      "source": [
        "##Fit your models"
      ]
    },
    {
      "cell_type": "code",
      "metadata": {
        "colab_type": "code",
        "id": "AuJLKiPi7wpV",
        "outputId": "e863704f-7af4-40c1-f2ef-2040d241af46",
        "colab": {
          "base_uri": "https://localhost:8080/",
          "height": 204
        }
      },
      "source": [
        "batch_size = 512\n",
        "epochs = 5\n",
        "hist = model.fit(X_t[:7400],y_t[:7400], batch_size=batch_size, epochs=epochs, validation_split=0.2, )#class_weight={'O':0.04, 'B-pers':0.20}) "
      ],
      "execution_count": 46,
      "outputs": [
        {
          "output_type": "stream",
          "text": [
            "Train on 5920 samples, validate on 1480 samples\n",
            "Epoch 1/5\n",
            "5920/5920 [==============================] - 38s 6ms/step - loss: 0.1013 - accuracy: 0.9763 - get_f1: 0.6399 - val_loss: 0.0778 - val_accuracy: 0.9901 - val_get_f1: 0.8701\n",
            "Epoch 2/5\n",
            "5920/5920 [==============================] - 36s 6ms/step - loss: 0.0750 - accuracy: 0.9908 - get_f1: 0.8847 - val_loss: 0.0747 - val_accuracy: 0.9912 - val_get_f1: 0.8873\n",
            "Epoch 3/5\n",
            "5920/5920 [==============================] - 36s 6ms/step - loss: 0.0735 - accuracy: 0.9915 - get_f1: 0.8929 - val_loss: 0.0738 - val_accuracy: 0.9913 - val_get_f1: 0.8890\n",
            "Epoch 4/5\n",
            "5920/5920 [==============================] - 36s 6ms/step - loss: 0.0724 - accuracy: 0.9915 - get_f1: 0.8931 - val_loss: 0.0728 - val_accuracy: 0.9912 - val_get_f1: 0.8874\n",
            "Epoch 5/5\n",
            "5920/5920 [==============================] - 36s 6ms/step - loss: 0.0714 - accuracy: 0.9914 - get_f1: 0.8928 - val_loss: 0.0722 - val_accuracy: 0.9911 - val_get_f1: 0.8866\n"
          ],
          "name": "stdout"
        }
      ]
    },
    {
      "cell_type": "markdown",
      "metadata": {
        "colab_type": "text",
        "id": "9ruMXQpw54KC"
      },
      "source": [
        "##training/validation loss plots"
      ]
    },
    {
      "cell_type": "code",
      "metadata": {
        "colab_type": "code",
        "id": "zdsrejUBvYzz",
        "outputId": "903bff55-9d4c-450c-fbdd-1c2a4476da10",
        "colab": {
          "base_uri": "https://localhost:8080/",
          "height": 581
        }
      },
      "source": [
        "# Visualize the Model\n",
        "plt.style.use(\"ggplot\")\n",
        "import matplotlib.pyplot as plt\n",
        "# Plot training & validation accuracy values\n",
        "plt.plot(hist.history['accuracy'])\n",
        "plt.plot(hist.history['val_accuracy'])\n",
        "plt.title('Model accuracy')\n",
        "plt.ylabel('Accuracy')\n",
        "plt.xlabel('Epoch')\n",
        "plt.legend(['Train', 'Test'], loc='upper left')\n",
        "plt.show()\n",
        "\n",
        "# Plot training & validation loss values\n",
        "plt.plot(hist.history['loss'])\n",
        "plt.plot(hist.history['val_loss'])\n",
        "plt.title('Model loss')\n",
        "plt.ylabel('Loss')\n",
        "plt.xlabel('Epoch')\n",
        "plt.legend(['Train', 'Test'], loc='upper left')\n",
        "plt.show()"
      ],
      "execution_count": 47,
      "outputs": [
        {
          "output_type": "display_data",
          "data": {
            "image/png": "[encoded data removed]",
            "text/plain": [
              "<Figure size 432x288 with 1 Axes>"
            ]
          },
          "metadata": {
            "tags": []
          }
        },
        {
          "output_type": "display_data",
          "data": {
            "image/png": "[encoded data removed]",
            "text/plain": [
              "<Figure size 432x288 with 1 Axes>"
            ]
          },
          "metadata": {
            "tags": []
          }
        }
      ]
    },
    {
      "cell_type": "markdown",
      "metadata": {
        "colab_type": "text",
        "id": "akYG9XDp5iaS"
      },
      "source": [
        "## Fill the table for all architectures"
      ]
    },
    {
      "cell_type": "markdown",
      "metadata": {
        "colab_type": "text",
        "id": "Kcp7BNb_750q"
      },
      "source": [
        "<table>\n",
        "<thead>\n",
        "<tr>\n",
        "<th></th>\n",
        "<th align=\"center\"><code>        </code></th>\n",
        "<th align=\"center\"><code>loss</code></th>\n",
        "<th align=\"center\"><code>        </code></th>\n",
        "<th align=\"center\"><code>accuracy</code></th>\n",
        "<th align=\"center\"><code>        </code></th>\n",
        "<th align=\"center\"><code>val_loss</code></th>\n",
        "<th align=\"center\"><code>        </code></th>\n",
        "<th align=\"center\"><code>val_accuracy</code></th>\n",
        "<th align=\"center\"><code>        </code></th>\n",
        "</tr>\n",
        "</thead>\n",
        "<tbody>\n",
        "<tr>\n",
        "<td>word emedding-Bi-directional LSTM-softmax</td>\n",
        " <td align=\"center\"> </td>\n",
        "<td align=\"center\">0.0726</td>\n",
        "<td align=\"center\"> </td>\n",
        "<td align=\"center\">0.9915</td>\n",
        "<td align=\"center\"> </td>\n",
        "<td align=\"center\">0.0722</td>\n",
        "<td align=\"center\"> </td>\n",
        "<td align=\"center\">0.9915</td>\n",
        "<td align=\"center\"> </td>\n",
        "</tr>\n",
        "<tr>\n",
        "<td>Bi-directional LSTM-softmax</td>\n",
        "  <td align=\"center\"> </td>\n",
        "<td align=\"center\">0.0677</td>\n",
        "<td align=\"center\"> </td>\n",
        "<td align=\"center\">0.9917</td>\n",
        "<td align=\"center\"></td>\n",
        "  <td align=\"center\">0.0675</td>\n",
        "<td align=\"center\"> </td>\n",
        "<td align=\"center\">0.9918</td>\n",
        "<td align=\"center\"> </td>\n",
        "</tr>\n",
        "<tr>\n",
        "<td>word emedding-Bi-directional LSTM-CRF</td>\n",
        "  <td align=\"center\"> </td>\n",
        "<td align=\"center\">0.0418</td>\n",
        "<td align=\"center\"> </td>\n",
        "<td align=\"center\">0.9933</td>\n",
        "<td align=\"center\"> </td>\n",
        " <td align=\"center\">0.0363</td>\n",
        "<td align=\"center\"> </td>\n",
        "<td align=\"center\">0.9941</td>\n",
        "<td align=\"center\"> </td>\n",
        "</tr>\n",
        "<tr>\n",
        "<td>Bi-directional LSTM-CRF</td>\n",
        "  <td align=\"center\"> </td>\n",
        "<td align=\"center\">0.0348</td>\n",
        "<td align=\"center\"> </td>\n",
        "<td align=\"center\">0.9932</td>\n",
        "<td align=\"center\"></td>\n",
        " <td align=\"center\">0.0290</td>\n",
        "<td align=\"center\"> </td>\n",
        "<td align=\"center\">0.9941</td>\n",
        "<td align=\"center\"> </td>\n",
        "</tr>\n",
        "<tr>\n",
        "<td>word emedding- Bi-directional LSTM-CNNs-CRF</td>\n",
        "  <td align=\"center\"> </td>\n",
        "<td align=\"center\">0.0382</td>\n",
        "<td align=\"center\"></td>\n",
        "<td align=\"center\">0.9933</td>\n",
        "<td align=\"center\"></td>\n",
        "<td align=\"center\">0.0324</td>\n",
        "<td align=\"center\"> </td>\n",
        "<td align=\"center\">0.9941</td>\n",
        "<td align=\"center\"> </td>\n",
        "</tr>\n",
        "<tr>\n",
        "<td>Bi-directional LSTM-CNNs-CRF</td>\n",
        "  <td align=\"center\"> </td>\n",
        "<td align=\"center\">0.0330</td>\n",
        "<td align=\"center\"></td>\n",
        "<td align=\"center\">0.9933</td>\n",
        "<td align=\"center\"></td>\n",
        "<td align=\"center\">0.0281</td>\n",
        "<td align=\"center\"></td>\n",
        "<td align=\"center\">0.9941</td>\n",
        "<td align=\"center\"></td>\n",
        "</tr>\n",
        "\n",
        "<td>my state of the art lstm </td>\n",
        "<td align=\"center\"> </td>\n",
        "<td align=\"center\">0.0717</td>\n",
        "<td align=\"center\"></td>\n",
        "<td align=\"center\">0.9915</td>\n",
        "<td align=\"center\"></td>\n",
        "<td align=\"center\">0.0704</td>\n",
        "<td align=\"center\"></td>\n",
        "<td align=\"center\">0.9917</td>\n",
        "<td align=\"center\"></td>\n",
        "</tr>\n",
        "</tbody>\n",
        "</table>"
      ]
    }
  ]
}